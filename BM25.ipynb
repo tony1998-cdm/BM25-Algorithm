{
 "cells": [
  {
   "cell_type": "code",
   "execution_count": 1,
   "metadata": {},
   "outputs": [],
   "source": [
    "import jieba\n",
    "from rank_bm25 import BM25Okapi"
   ]
  },
  {
   "cell_type": "code",
   "execution_count": 2,
   "metadata": {},
   "outputs": [
    {
     "name": "stderr",
     "output_type": "stream",
     "text": [
      "Building prefix dict from the default dictionary ...\n",
      "Loading model from cache /var/folders/f3/x1x2k7z97l721p8bh4kh4g_h0000gn/T/jieba.cache\n",
      "Loading model cost 0.826 seconds.\n",
      "Prefix dict has been built successfully.\n"
     ]
    }
   ],
   "source": [
    "jieba.load_userdict(\"userdict.txt\")"
   ]
  },
  {
   "cell_type": "code",
   "execution_count": 3,
   "metadata": {},
   "outputs": [],
   "source": [
    "def readfile2wordlist(file_path):\n",
    "    word_list = []\n",
    "    cut_word_list = []\n",
    "    with open (file_path, 'r', encoding='utf-8-sig') as f:\n",
    "        for line in f.readlines():\n",
    "            words = line.strip()\n",
    "            seg_list = jieba.cut(words)\n",
    "            seg_list = [i for i in seg_list if i not in stopwords and i !=' ']\n",
    "            word_list.append(words)\n",
    "            cut_word_list.append(seg_list)\n",
    "    return word_list,cut_word_list"
   ]
  },
  {
   "cell_type": "code",
   "execution_count": 4,
   "metadata": {},
   "outputs": [],
   "source": [
    "def calculate_tfidf(file_path):\n",
    "    word_list, cut_word_list = readfile2wordlist(file_path)\n",
    "    dictionary = corpora.Dictionary(cut_word_list)\n",
    "    num_features = len(dictionary.token2id)\n",
    "    words_bag = [dictionary.doc2bow(text) for text in cut_word_list]\n",
    "    tfidf_model = models.TfidfModel(words_bag)\n",
    "    tf_texts = tfidf_model[words_bag]\n",
    "    sparse_matrix = similarities.SparseMatrixSimilarity(tf_texts, num_features)\n",
    "    return dictionary, tfidf_model, word_list, sparse_matrix"
   ]
  },
  {
   "cell_type": "code",
   "execution_count": 5,
   "metadata": {},
   "outputs": [],
   "source": [
    "def split_words(words):\n",
    "    cut_words = [i for i in jieba.cut(words) if i not in stopwords and i !=' ']\n",
    "    return cut_words"
   ]
  },
  {
   "cell_type": "code",
   "execution_count": 6,
   "metadata": {},
   "outputs": [],
   "source": [
    "def calculate_similarity(words,dictionary,tfidf_model,word_list,sparse_matrix):\n",
    "    cut_words = split_words(words)\n",
    "    bow_vector = dictionary.doc2bow(cut_words)\n",
    "    bow_tfidf = tfidf_model[bow_vector]\n",
    "    similarities = sparse_matrix.get_similarities(bow_tfidf)\n",
    "    sorted_result = sorted(enumerate(similarities), key=lambda x: x[1], reverse=True)\n",
    "    result_similarity = [[word_list[i[0]],i[1]] for i in sorted_result[:10]]\n",
    "    return result_similarity"
   ]
  },
  {
   "cell_type": "code",
   "execution_count": null,
   "metadata": {},
   "outputs": [],
   "source": [
    "file_path = \"\"\n",
    "readfile2wordlist(file_path)"
   ]
  }
 ],
 "metadata": {
  "kernelspec": {
   "display_name": "Python 3",
   "language": "python",
   "name": "python3"
  },
  "language_info": {
   "codemirror_mode": {
    "name": "ipython",
    "version": 3
   },
   "file_extension": ".py",
   "mimetype": "text/x-python",
   "name": "python",
   "nbconvert_exporter": "python",
   "pygments_lexer": "ipython3",
   "version": "3.8.5"
  }
 },
 "nbformat": 4,
 "nbformat_minor": 4
}
